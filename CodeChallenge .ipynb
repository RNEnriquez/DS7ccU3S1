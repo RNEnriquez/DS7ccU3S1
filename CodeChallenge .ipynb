{
 "cells": [
  {
   "cell_type": "code",
   "execution_count": 12,
   "metadata": {},
   "outputs": [],
   "source": [
    "import time\n",
    "import pandas as pd"
   ]
  },
  {
   "cell_type": "markdown",
   "metadata": {},
   "source": [
    "- There is a data dir which contains two txt files\n",
    "- Use your GoogleFu to figure out how to use Python to open these files \n",
    "- Save \"books_published \"books_published_last_two_years.txt\" in the variable \"recent_books\"\n",
    "- Save \"all_coding_books.txt\" in the variable \"coding_books\""
   ]
  },
  {
   "cell_type": "code",
   "execution_count": 8,
   "metadata": {},
   "outputs": [],
   "source": [
    "recentBooks=open('data/books_published_last_two_years.txt','r')\n",
    "allBooks=open('data/all_coding_books.txt', 'r')"
   ]
  },
  {
   "cell_type": "markdown",
   "metadata": {},
   "source": [
    "Print how many books each file has"
   ]
  },
  {
   "cell_type": "code",
   "execution_count": 9,
   "metadata": {},
   "outputs": [
    {
     "data": {
      "text/plain": [
       "(32250, 24158)"
      ]
     },
     "execution_count": 9,
     "metadata": {},
     "output_type": "execute_result"
    }
   ],
   "source": [
    "codeBooks=allBooks.readlines()\n",
    "recent=recentBooks.readlines()\n",
    "\n",
    "len(codeBooks), len(recent)"
   ]
  },
  {
   "cell_type": "markdown",
   "metadata": {},
   "source": [
    "Problem: Using a loop, find which books \"recent_books\" and \"coding_books\" have in common (time how long it takes)."
   ]
  },
  {
   "cell_type": "code",
   "execution_count": 5,
   "metadata": {},
   "outputs": [
    {
     "name": "stdout",
     "output_type": "stream",
     "text": [
      "['9348635\\n', '9180837\\n', '2645238\\n', '7852176\\n', '1264806\\n', '7955543\\n', '6595167\\n', '1962694\\n', '8255889\\n', '4993512\\n', '7148530\\n', '1715546\\n', '8873515\\n', '3172199\\n', '2009541\\n', '3290103\\n', '8196889\\n', '3517640\\n', '3066256\\n', '2038925\\n', '3036263\\n', '2989078\\n', '1713507\\n', '5764540\\n', '1258335\\n', '8558628\\n', '7286871\\n', '4717544\\n', '3783712\\n', '1694425\\n', '9443002\\n', '2462622\\n', '7401186\\n', '3264002\\n', '2986045\\n', '5205726\\n', '2706358\\n', '5353921\\n', '6889040\\n', '5890905\\n', '4137576\\n', '4281481\\n', '7663370\\n', '8502866\\n', '7668560\\n', '7308127\\n', '6522620\\n', '1901264\\n', '2442952\\n', '9193737\\n', '4959393\\n', '4976621\\n', '6163266\\n', '8819824\\n', '4069963\\n', '6599509\\n', '2239694\\n', '2439487\\n', '7406586\\n', '5406308\\n', '7231742\\n', '4623179\\n', '5951873\\n', '6975356\\n', '7689591\\n', '6964516\\n', '1900178\\n', '1219701\\n', '9497646\\n', '3349989\\n', '2644909\\n', '9255617\\n', '5766722\\n', '7804836\\n', '7286175\\n', '6445882\\n', '8919160\\n', '4245126\\n', '8897482\\n', '9624309\\n', '4580997\\n', '2920394\\n', '7356628\\n', '6977874\\n', '8604850\\n', '6005218\\n', '6637024\\n', '7144292\\n', '6495493\\n', '7804101\\n', '1473766\\n', '7531095\\n', '7170269\\n', '8879982\\n', '7201791\\n', '8621688\\n']\n",
      "Execution time: 27.33334708213806\n"
     ]
    }
   ],
   "source": [
    "# Starter code\n",
    "start = time.time() # This allows you to time the code\n",
    "\n",
    "commonBooks=[]\n",
    "for book in recent:\n",
    "    if book in set(codeBooks):\n",
    "        commonBooks.append(book)\n",
    "\n",
    "\n",
    "# Your code here\n",
    "print(commonBooks)\n",
    "\n",
    "\n",
    "\n",
    "\n",
    "print(f\"Execution time: {time.time() - start}\") # This prints how long it took to run your code"
   ]
  },
  {
   "cell_type": "markdown",
   "metadata": {},
   "source": [
    "Problem: Can you think of a way to make this code run faster? Anything YOU (emphaiss on you!!) can think of is fair game (time your code)."
   ]
  },
  {
   "cell_type": "code",
   "execution_count": 16,
   "metadata": {},
   "outputs": [
    {
     "name": "stdout",
     "output_type": "stream",
     "text": [
      "278      9348635\\n\n",
      "974      9180837\\n\n",
      "1532     2645238\\n\n",
      "1746     7852176\\n\n",
      "1887     1264806\\n\n",
      "1900     7955543\\n\n",
      "2350     6595167\\n\n",
      "2453     1962694\\n\n",
      "2937     8255889\\n\n",
      "3535     4993512\\n\n",
      "4557     7148530\\n\n",
      "4609     1715546\\n\n",
      "4626     8873515\\n\n",
      "4677     3172199\\n\n",
      "5122     2009541\\n\n",
      "5592     3290103\\n\n",
      "6213     8196889\\n\n",
      "8618     3517640\\n\n",
      "9836     3066256\\n\n",
      "10190    2038925\\n\n",
      "10453    3036263\\n\n",
      "11489    2989078\\n\n",
      "12095    1713507\\n\n",
      "12142    5764540\\n\n",
      "12338    1258335\\n\n",
      "12403    8558628\\n\n",
      "12466    7286871\\n\n",
      "12992    4717544\\n\n",
      "13041    3783712\\n\n",
      "13261    1694425\\n\n",
      "           ...    \n",
      "22946    1900178\\n\n",
      "24325    1219701\\n\n",
      "24796    9497646\\n\n",
      "24924    3349989\\n\n",
      "25007    2644909\\n\n",
      "25174    9255617\\n\n",
      "25233    5766722\\n\n",
      "25309    7804836\\n\n",
      "25426    7286175\\n\n",
      "25461    6445882\\n\n",
      "25515    8919160\\n\n",
      "25663    4245126\\n\n",
      "26291    8897482\\n\n",
      "27079    9624309\\n\n",
      "27424    4580997\\n\n",
      "27486    2920394\\n\n",
      "28799    7356628\\n\n",
      "29013    6977874\\n\n",
      "29544    8604850\\n\n",
      "29728    6005218\\n\n",
      "29800    6637024\\n\n",
      "30416    7144292\\n\n",
      "30537    6495493\\n\n",
      "30928    7804101\\n\n",
      "31407    1473766\\n\n",
      "31541    7531095\\n\n",
      "31547    7170269\\n\n",
      "31549    8879982\\n\n",
      "31968    7201791\\n\n",
      "32080    8621688\\n\n",
      "Length: 96, dtype: object\n",
      "Execution time: 0.006797075271606445\n"
     ]
    }
   ],
   "source": [
    "start = time.time()\n",
    "\n",
    "\n",
    "recent=pd.Series(recent)\n",
    "codeBooks=pd.Series(codeBooks)\n",
    "\n",
    "print(codeBooks[codeBooks.isin(recent)])\n",
    "\n",
    "print(f\"Execution time: {time.time() - start}\")"
   ]
  },
  {
   "cell_type": "code",
   "execution_count": null,
   "metadata": {},
   "outputs": [],
   "source": []
  }
 ],
 "metadata": {
  "kernelspec": {
   "display_name": "Python 3",
   "language": "python",
   "name": "python3"
  },
  "language_info": {
   "codemirror_mode": {
    "name": "ipython",
    "version": 3
   },
   "file_extension": ".py",
   "mimetype": "text/x-python",
   "name": "python",
   "nbconvert_exporter": "python",
   "pygments_lexer": "ipython3",
   "version": "3.7.3"
  }
 },
 "nbformat": 4,
 "nbformat_minor": 4
}
