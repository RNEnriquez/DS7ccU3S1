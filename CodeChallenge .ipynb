{
 "cells": [
  {
   "cell_type": "code",
   "execution_count": 1,
   "metadata": {},
   "outputs": [],
   "source": [
    "import time"
   ]
  },
  {
   "cell_type": "markdown",
   "metadata": {},
   "source": [
    "- There is a data dir which contains two txt files\n",
    "- Use your GoogleFu to figure out how to use Python to open these files \n",
    "- Save \"books_published \"books_published_last_two_years.txt\" in the variable \"recent_books\"\n",
    "- Save \"all_coding_books.txt\" in the variable \"coding_books\""
   ]
  },
  {
   "cell_type": "code",
   "execution_count": 14,
   "metadata": {},
   "outputs": [],
   "source": [
    "f = open('data/books_published_last_two_years.txt','r')\n",
    "recent_books = f.read()\n",
    "recent_books = recent_books.split('\\n')\n",
    "f = open('data/all_coding_books.txt','r')\n",
    "coding_books = f.read()\n",
    "coding_books = coding_books.split('\\n')"
   ]
  },
  {
   "cell_type": "markdown",
   "metadata": {},
   "source": [
    "Print how many books each file has"
   ]
  },
  {
   "cell_type": "code",
   "execution_count": 15,
   "metadata": {},
   "outputs": [
    {
     "name": "stdout",
     "output_type": "stream",
     "text": [
      "Recent books has  24159  books\n",
      "Coding books has  32250  books\n"
     ]
    }
   ],
   "source": [
    "print('Recent books has ',len(recent_books),' books')\n",
    "print('Coding books has ',len(coding_books),' books')"
   ]
  },
  {
   "cell_type": "markdown",
   "metadata": {},
   "source": [
    "Problem: Using a loop, find which books \"recent_books\" and \"coding_books\" have in common (time how long it takes)."
   ]
  },
  {
   "cell_type": "code",
   "execution_count": 17,
   "metadata": {},
   "outputs": [
    {
     "name": "stdout",
     "output_type": "stream",
     "text": [
      "Execution time: 31.34586238861084\n"
     ]
    }
   ],
   "source": [
    "# Starter code\n",
    "start = time.time() # This allows you to time the code\n",
    "common_books = []\n",
    "for book in recent_books:\n",
    "    if book in set(coding_books):\n",
    "        common_books.append(book)\n",
    "\n",
    "\n",
    "# Your code here\n",
    "\n",
    "\n",
    "\n",
    "\n",
    "\n",
    "print(f\"Execution time: {time.time() - start}\") # This prints how long it took to run your code"
   ]
  },
  {
   "cell_type": "code",
   "execution_count": 18,
   "metadata": {},
   "outputs": [
    {
     "data": {
      "text/plain": [
       "96"
      ]
     },
     "execution_count": 18,
     "metadata": {},
     "output_type": "execute_result"
    }
   ],
   "source": [
    "len(common_books)"
   ]
  },
  {
   "cell_type": "markdown",
   "metadata": {},
   "source": [
    "Problem: Can you think of a way to make this code run faster? Anything YOU (emphaiss on you!!) can think of is fair game (time your code)."
   ]
  },
  {
   "cell_type": "code",
   "execution_count": 19,
   "metadata": {},
   "outputs": [
    {
     "name": "stdout",
     "output_type": "stream",
     "text": [
      "Execution time: 0.017026185989379883\n"
     ]
    }
   ],
   "source": [
    "start = time.time()\n",
    "\n",
    "\n",
    "\n",
    "# Your code here\n",
    "common_books = list(set(recent_books)&set(coding_books))\n",
    "\n",
    "\n",
    "\n",
    "print(f\"Execution time: {time.time() - start}\")"
   ]
  },
  {
   "cell_type": "code",
   "execution_count": 20,
   "metadata": {},
   "outputs": [
    {
     "data": {
      "text/plain": [
       "96"
      ]
     },
     "execution_count": 20,
     "metadata": {},
     "output_type": "execute_result"
    }
   ],
   "source": [
    "len(common_books)"
   ]
  },
  {
   "cell_type": "code",
   "execution_count": null,
   "metadata": {},
   "outputs": [],
   "source": []
  }
 ],
 "metadata": {
  "kernelspec": {
   "display_name": "Python 3",
   "language": "python",
   "name": "python3"
  },
  "language_info": {
   "codemirror_mode": {
    "name": "ipython",
    "version": 3
   },
   "file_extension": ".py",
   "mimetype": "text/x-python",
   "name": "python",
   "nbconvert_exporter": "python",
   "pygments_lexer": "ipython3",
   "version": "3.7.3"
  }
 },
 "nbformat": 4,
 "nbformat_minor": 2
}
